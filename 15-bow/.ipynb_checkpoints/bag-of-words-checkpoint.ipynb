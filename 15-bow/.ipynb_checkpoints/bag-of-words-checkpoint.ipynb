{
 "cells": [
  {
   "cell_type": "code",
   "execution_count": 3,
   "metadata": {
    "collapsed": false,
    "deletable": true,
    "editable": true
   },
   "outputs": [
    {
     "name": "stderr",
     "output_type": "stream",
     "text": [
      "Using TensorFlow backend.\n"
     ]
    }
   ],
   "source": [
    "import numpy as np\n",
    "from numpy import asarray as npa\n",
    "import matplotlib\n",
    "%matplotlib inline\n",
    "\n",
    "import keras\n",
    "import re"
   ]
  },
  {
   "cell_type": "code",
   "execution_count": 60,
   "metadata": {
    "collapsed": false,
    "deletable": true,
    "editable": true
   },
   "outputs": [],
   "source": [
    "f = open('data.txt')\n",
    "data = f.read()\n",
    "f.close()"
   ]
  },
  {
   "cell_type": "code",
   "execution_count": 61,
   "metadata": {
    "collapsed": false
   },
   "outputs": [],
   "source": [
    "data = data.lower().decode('utf-8')\n",
    "d = re.sub('[^A-Za-z]',' ', data)\n",
    "ds = d.split()"
   ]
  },
  {
   "cell_type": "code",
   "execution_count": 76,
   "metadata": {
    "collapsed": false
   },
   "outputs": [
    {
     "name": "stdout",
     "output_type": "stream",
     "text": [
      "[u'the' u'project' u'gutenberg' u'ebook' u'of' u'human' u'all' u'too'\n",
      " u'human' u'by']\n"
     ]
    }
   ],
   "source": [
    "ds = ds[:1000]\n",
    "ds = npa(ds)\n",
    "print ds[:10]"
   ]
  },
  {
   "cell_type": "code",
   "execution_count": 78,
   "metadata": {
    "collapsed": false
   },
   "outputs": [],
   "source": [
    "bow = {}\n",
    "revbow = {}\n",
    "\n",
    "for ix in range(ds.shape[0]):\n",
    "    bow[ds[ix]] = ix\n",
    "    revbow[ix] = [ds[ix]]"
   ]
  },
  {
   "cell_type": "code",
   "execution_count": 83,
   "metadata": {
    "collapsed": false
   },
   "outputs": [],
   "source": [
    "#Conversion to one hot vectors\n",
    "indata = np.zeros((ds.shape[0], ds.shape[0]))  #First element is redundant\n",
    "outdata = np.zeros((ds.shape[0], ds.shape[0]))  \n",
    "\n",
    "outdata[0,0] = 1\n",
    "\n",
    "for ix in range(1, ds.shape[0]-1):\n",
    "    indata[i,i-1] = 0.7\n",
    "    indata[i,i] = 1\n",
    "    outdata[i] = i+1"
   ]
  },
  {
   "cell_type": "code",
   "execution_count": null,
   "metadata": {
    "collapsed": true
   },
   "outputs": [],
   "source": []
  }
 ],
 "metadata": {
  "kernelspec": {
   "display_name": "Python 2",
   "language": "python",
   "name": "python2"
  },
  "language_info": {
   "codemirror_mode": {
    "name": "ipython",
    "version": 2
   },
   "file_extension": ".py",
   "mimetype": "text/x-python",
   "name": "python",
   "nbconvert_exporter": "python",
   "pygments_lexer": "ipython2",
   "version": "2.7.12"
  }
 },
 "nbformat": 4,
 "nbformat_minor": 2
}
