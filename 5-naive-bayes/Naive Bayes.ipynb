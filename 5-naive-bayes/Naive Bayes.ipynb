{
 "cells": [
  {
   "cell_type": "code",
   "execution_count": 2,
   "metadata": {
    "collapsed": true
   },
   "outputs": [],
   "source": [
    "#Find probability that given input [2,3] has a label 0 or a label 1? using naive bayes\n",
    "#Here 2 is only checked for v1 and 3 only for v2"
   ]
  },
  {
   "cell_type": "code",
   "execution_count": 4,
   "metadata": {
    "collapsed": true
   },
   "outputs": [],
   "source": [
    "import numpy as np\n",
    "from numpy import asarray as npa\n",
    "from matplotlib import pyplot as plt\n",
    "%matplotlib inline\n",
    "import random"
   ]
  },
  {
   "cell_type": "code",
   "execution_count": 10,
   "metadata": {
    "collapsed": false
   },
   "outputs": [
    {
     "name": "stdout",
     "output_type": "stream",
     "text": [
      "[1 3 2 3 2 1 2 3 2 3 1 1 1 3 1 1 1 3 3 3] \n",
      "[2 1 1 1 3 1 3 3 3 1 2 3 2 2 3 3 2 3 2 3] \n",
      "[1 0 1 1 0 1 1 1 0 1 0 1 1 0 0 0 1 0 0 0]\n"
     ]
    }
   ],
   "source": [
    "dataSet = [1,2,3]\n",
    "labSet = [0,1]\n",
    "sz = 20 \n",
    "\n",
    "#v1 = npa([random.choice(dataSet) for i in range(sz)])\n",
    "#v2 = npa([random.choice(dataSet) for i in range(sz)])\n",
    "#lab = npa([random.choice(labSet) for i in range(sz)])\n",
    "\n",
    "v1 = npa([1, 3, 3, 2, 1, 2, 2, 2, 3, 3, 2, 2, 2, 1, 3, 2, 2, 3, 2, 2])\n",
    "v2 = npa([2, 1, 3, 1, 2, 3, 3, 1, 1, 1, 1, 3, 2, 1, 2, 2, 1, 2, 2, 1])\n",
    "lab =  npa([1, 0, 1, 1, 0, 1, 1, 1, 0, 1, 0, 1, 1, 0, 0, 0, 1, 0, 0, 0])\n",
    "\n",
    "print v1, \"\\n\", v2, \"\\n\", lab"
   ]
  },
  {
   "cell_type": "code",
   "execution_count": 12,
   "metadata": {
    "collapsed": false
   },
   "outputs": [
    {
     "name": "stdout",
     "output_type": "stream",
     "text": [
      "13\n"
     ]
    }
   ],
   "source": [
    "c2 = c3 = 0\n",
    "for i in range(sz):\n",
    "    if v1[i] == 2:\n",
    "        c2+=1\n",
    "    if v2[i] == 3:\n",
    "        c3 += 1\n",
    "        \n",
    "print c2+c3"
   ]
  },
  {
   "cell_type": "code",
   "execution_count": null,
   "metadata": {
    "collapsed": true
   },
   "outputs": [],
   "source": []
  }
 ],
 "metadata": {
  "kernelspec": {
   "display_name": "Python 2",
   "language": "python",
   "name": "python2"
  },
  "language_info": {
   "codemirror_mode": {
    "name": "ipython",
    "version": 2
   },
   "file_extension": ".py",
   "mimetype": "text/x-python",
   "name": "python",
   "nbconvert_exporter": "python",
   "pygments_lexer": "ipython2",
   "version": "2.7.11"
  }
 },
 "nbformat": 4,
 "nbformat_minor": 2
}
