{
 "cells": [
  {
   "cell_type": "code",
   "execution_count": 3,
   "metadata": {
    "collapsed": true,
    "deletable": true,
    "editable": true
   },
   "outputs": [],
   "source": [
    "import numpy as np\n",
    "from matplotlib import pyplot as plt\n",
    "%matplotlib inline\n",
    "import sklearn\n",
    "from sklearn.datasets import make_moons, make_blobs, make_s_curve\n",
    "import sklearn.datasets as dt"
   ]
  },
  {
   "cell_type": "code",
   "execution_count": 4,
   "metadata": {
    "collapsed": false,
    "deletable": true,
    "editable": true
   },
   "outputs": [
    {
     "name": "stdout",
     "output_type": "stream",
     "text": [
      "[ 78.53757039  78.53757039]\n",
      "(100,)\n",
      "(2,)\n"
     ]
    }
   ],
   "source": [
    "dt.make_checkerboard?\n",
    "a, b, c = dt.make_checkerboard(shape=(100, 2), n_clusters=3)\n",
    "#a, b = make_swiss_roll\n",
    "print a[0]\n",
    "print b[0].shape\n",
    "print c[0].shape"
   ]
  },
  {
   "cell_type": "code",
   "execution_count": 5,
   "metadata": {
    "collapsed": false,
    "deletable": true,
    "editable": true
   },
   "outputs": [
    {
     "name": "stdout",
     "output_type": "stream",
     "text": [
      "(500, 2) (500,)\n"
     ]
    }
   ],
   "source": [
    "X, y = make_moons(500, noise=0.1)\n",
    "print X.shape, y.shape\n",
    "\n",
    "def plot_decision_boundary(pred_func):\n",
    "    # Set min and max values and give it some padding\n",
    "    x_min, x_max = X[:, 0].min() - .5, X[:, 0].max() + .5\n",
    "    y_min, y_max = X[:, 1].min() - .5, X[:, 1].max() + .5\n",
    "    h = 0.01\n",
    "    # Generate a grid of points with distance h between them\n",
    "    xx, yy = np.meshgrid(np.arange(x_min, x_max, h), np.arange(y_min, y_max, h))\n",
    "    # Predict the function value for the whole gid\n",
    "    Z = pred_func(np.c_[xx.ravel(), yy.ravel()])\n",
    "    Z = Z.reshape(xx.shape)\n",
    "    # Plot the contour and training examples\n",
    "    plt.contourf(xx, yy, Z, cmap=plt.cm.Spectral)\n",
    "    plt.scatter(X[:, 0], X[:, 1], c=y, cmap=plt.cm.Spectral)"
   ]
  },
  {
   "cell_type": "code",
   "execution_count": 6,
   "metadata": {
    "collapsed": false,
    "deletable": true,
    "editable": true
   },
   "outputs": [
    {
     "data": {
      "image/png": "[encoded data removed]",
      "text/plain": [
       "<matplotlib.figure.Figure at 0x7fa0ec90f0d0>"
      ]
     },
     "metadata": {},
     "output_type": "display_data"
    }
   ],
   "source": [
    "plt.scatter(X[:, 0], X[:, 1])\n",
    "plt.show()"
   ]
  },
  {
   "cell_type": "code",
   "execution_count": 7,
   "metadata": {
    "collapsed": false,
    "deletable": true,
    "editable": true
   },
   "outputs": [
    {
     "name": "stdout",
     "output_type": "stream",
     "text": [
      "[ 0.25  1.64  0.98  0.45]\n",
      "[ 1.28402542  5.15516951  2.66445624  1.56831219]\n",
      "10.6719633563\n",
      "[ 0.12031764  0.48305727  0.2496688   0.14695629]\n"
     ]
    }
   ],
   "source": [
    "z = np.array([0.25, 1.64, 0.98, 0.45])\n",
    "print z\n",
    "escore = np.exp(z)\n",
    "print escore\n",
    "print escore.sum()\n",
    "probs = escore / escore.sum()\n",
    "print probs\n"
   ]
  },
  {
   "cell_type": "code",
   "execution_count": 8,
   "metadata": {
    "collapsed": true,
    "deletable": true,
    "editable": true
   },
   "outputs": [],
   "source": [
    "num_examples = X.shape[0]\n",
    "nn_input_dim = 2\n",
    "nn_output_dim = 2\n",
    "\n",
    "epsilon = 0.01\n",
    "reg_lambda = 0.01"
   ]
  },
  {
   "cell_type": "code",
   "execution_count": 9,
   "metadata": {
    "collapsed": false,
    "deletable": true,
    "editable": true
   },
   "outputs": [
    {
     "name": "stdout",
     "output_type": "stream",
     "text": [
      "[0 1 1 0 1 1 1 0 1 0]\n"
     ]
    }
   ],
   "source": [
    "print y[:10]"
   ]
  },
  {
   "cell_type": "code",
   "execution_count": 18,
   "metadata": {
    "collapsed": false,
    "deletable": true,
    "editable": true
   },
   "outputs": [],
   "source": [
    "def sigmoid(z):\n",
    "    return 1.0 / (1.0 + np.exp(-1.0 * z))\n",
    "\n",
    "def d_sigmoid(z):\n",
    "    y = sigmoid(z)\n",
    "    return y*(1 - y)\n",
    "\n",
    "def tanh(z):\n",
    "    return np.tanh(z)\n",
    "\n",
    "def d_tanh(z):\n",
    "    return (1.0 - np.tanh(z)**2)\n",
    "\n",
    "def calculate_loss(model):\n",
    "    W1, b1, W2, b2 = model['W1'], model['b1'], model['W2'], model['b2']\n",
    "    z1 = X.dot(W1) + b1\n",
    "    # a1 = np.tanh(z1)\n",
    "    a1 = sigmoid(z1)\n",
    "    z2 = a1.dot(W2) + b2\n",
    "    exp_scores = np.exp(z2)\n",
    "    probs = exp_scores / np.sum(exp_scores, axis=1, keepdims=True)\n",
    "    corect_logprobs = -np.log(probs[range(num_examples), y])\n",
    "    print '::', probs.shape, y.shape, num_examples\n",
    "    data_loss = np.sum(corect_logprobs)\n",
    "    return 1./num_examples * data_loss\n",
    "\n",
    "\n",
    "def predict(model, x):\n",
    "    W1, b1, W2, b2 = model['W1'], model['b1'], model['W2'], model['b2']\n",
    "    z1 = x.dot(W1) + b1\n",
    "    # a1 = np.tanh(z1)\n",
    "    a1 = sigmoid(z1)\n",
    "    z2 = a1.dot(W2) + b2\n",
    "    exp_scores = np.exp(z2)\n",
    "    probs = exp_scores / np.sum(exp_scores, axis=1, keepdims=True)\n",
    "    return np.argmax(probs, axis=1)\n",
    "\n",
    "def build_model(nn_hdim=16, nb_epoch=10, print_loss=True, model=None):\n",
    "    \n",
    "    # Initialize weights and biases\n",
    "    if model is None:\n",
    "        W1 = np.random.randn(nn_input_dim, nn_hdim)\n",
    "        b1 = np.zeros((1, nn_hdim))\n",
    "        W2 = np.random.randn(nn_hdim, nn_output_dim)\n",
    "        b2 = np.zeros((1, nn_output_dim))\n",
    "    else:\n",
    "        W1, b1, W2, b2 = model['W1'], model['b1'], model['W2'], model['b2']\n",
    "    \n",
    "    # Init model object\n",
    "    if model is None:\n",
    "        model = {}\n",
    "    \n",
    "    for i in xrange(0, nb_epoch):\n",
    "\n",
    "        # Forward propagation, store vals\n",
    "        \n",
    "        z1 = X.dot(W1) + b1\n",
    "        a1 = sigmoid(z1)\n",
    "        # a1 = tanh(z1)\n",
    "        z2 = a1.dot(W2) + b2\n",
    "        exp_scores = np.exp(z2)\n",
    "        probs = exp_scores / np.sum(exp_scores, axis=1, keepdims=True)\n",
    "        a2 = probs\n",
    "        \n",
    "        # Backpropagation\n",
    "        delta3 = probs\n",
    "        # compute loss gradient\n",
    "        delta3[range(num_examples), y] -= 1\n",
    "        print 'delta3\\n', delta3[:4]\n",
    "        print 'act1:\\n', a1[:4]\n",
    "        dW2 = (a1.T).dot(delta3)\n",
    "        db2 = np.sum(delta3, axis=0, keepdims=True)\n",
    "        print 'db2:\\n', db2[:4]\n",
    "        # delta2 = delta3.dot(W2.T) * (1 - np.power(a1, 2))\n",
    "        delta2 = delta3.dot(W2.T) * (1 - a1) * a1 # gradient for sigmoid\n",
    "        \n",
    "        dW1 = np.dot(X.T, delta2)\n",
    "        db1 = np.sum(delta2, axis=0,keepdims=True)\n",
    "\n",
    "        W1 += -epsilon * dW1\n",
    "        b1 += -epsilon * db1\n",
    "        W2 += -epsilon * dW2\n",
    "        b2 += -epsilon * db2\n",
    "        \n",
    "        model = { 'W1': W1, 'b1': b1, 'W2': W2, 'b2': b2}\n",
    "        \n",
    "        if print_loss and i % 1000 == 0:\n",
    "            print \"Loss after iteration %i: %f\" %(i, calculate_loss(model))\n",
    "    \n",
    "    return model"
   ]
  },
  {
   "cell_type": "code",
   "execution_count": 19,
   "metadata": {
    "collapsed": false,
    "deletable": true,
    "editable": true,
    "scrolled": true
   },
   "outputs": [
    {
     "name": "stdout",
     "output_type": "stream",
     "text": [
      "delta3\n",
      "[[-0.30832477  0.30832477]\n",
      " [ 0.8457617  -0.8457617 ]\n",
      " [ 0.79776969 -0.79776969]\n",
      " [-0.2236434   0.2236434 ]]\n",
      "act1:\n",
      "[[ 0.34161585  0.39415239]\n",
      " [ 0.67556887  0.61874035]\n",
      " [ 0.55217432  0.53433126]\n",
      " [ 0.50467918  0.50353425]]\n",
      "db2:\n",
      "[[ 134.39980476 -134.39980476]]\n",
      ":: (500, 2) (500,) 500\n",
      "Loss after iteration 0: 1.785341\n",
      "delta3\n",
      "[[-0.97221     0.97221   ]\n",
      " [ 0.01039895 -0.01039895]\n",
      " [ 0.02024001 -0.02024001]\n",
      " [-0.98395132  0.98395132]]\n",
      "act1:\n",
      "[[ 0.19470133  0.43462115]\n",
      " [ 0.05814148  0.78124154]\n",
      " [ 0.2717503   0.59920016]\n",
      " [ 0.10332421  0.62259965]]\n",
      "db2:\n",
      "[[-238.6284905  238.6284905]]\n",
      "delta3\n",
      "[[-0.05503127  0.05503127]\n",
      " [ 0.89288466 -0.89288466]\n",
      " [ 0.94406915 -0.94406915]\n",
      " [-0.08307196  0.08307196]]\n",
      "act1:\n",
      "[[ 0.32917573  0.07367565]\n",
      " [ 0.07426644  0.46926204]\n",
      " [ 0.35208259  0.3130482 ]\n",
      " [ 0.15893484  0.2015124 ]]\n",
      "db2:\n",
      "[[ 215.71639012 -215.71639012]]\n",
      "delta3\n",
      "[[-0.89096761  0.89096761]\n",
      " [ 0.03095191 -0.03095191]\n",
      " [ 0.06474835 -0.06474835]\n",
      " [-0.93620067  0.93620067]]\n",
      "act1:\n",
      "[[ 0.19774596  0.08501078]\n",
      " [ 0.01657704  0.57558054]\n",
      " [ 0.19907596  0.35033701]\n",
      " [ 0.05704011  0.25356947]]\n",
      "db2:\n",
      "[[-207.82299349  207.82299349]]\n",
      "delta3\n",
      "[[-0.05126085  0.05126085]\n",
      " [ 0.7931462  -0.7931462 ]\n",
      " [ 0.90937898 -0.90937898]\n",
      " [-0.12084631  0.12084631]]\n",
      "act1:\n",
      "[[ 0.37242705  0.04038072]\n",
      " [ 0.02128041  0.39994959]\n",
      " [ 0.28028764  0.2585349 ]\n",
      " [ 0.09733238  0.13580487]]\n",
      "db2:\n",
      "[[ 193.34131982 -193.34131982]]\n",
      "delta3\n",
      "[[-0.82641469  0.82641469]\n",
      " [ 0.01197566 -0.01197566]\n",
      " [ 0.05689755 -0.05689755]\n",
      " [-0.9506554   0.9506554 ]]\n",
      "act1:\n",
      "[[ 0.26138398  0.07756436]\n",
      " [ 0.00884071  0.82166736]\n",
      " [ 0.18227336  0.4272975 ]\n",
      " [ 0.05032932  0.37454617]]\n",
      "db2:\n",
      "[[-185.65222401  185.65222401]]\n",
      "delta3\n",
      "[[-0.02670417  0.02670417]\n",
      " [ 0.61634581 -0.61634581]\n",
      " [ 0.88996728 -0.88996728]\n",
      " [-0.14246244  0.14246244]]\n",
      "act1:\n",
      "[[ 0.52455164  0.02777456]\n",
      " [ 0.01384342  0.56450721]\n",
      " [ 0.28003272  0.28927086]\n",
      " [ 0.10687965  0.15188837]]\n",
      "db2:\n",
      "[[ 162.76852175 -162.76852175]]\n",
      "delta3\n",
      "[[-0.63775057  0.63775057]\n",
      " [ 0.00671362 -0.00671362]\n",
      " [ 0.05451958 -0.05451958]\n",
      " [-0.95548826  0.95548826]]\n",
      "act1:\n",
      "[[ 0.37155365  0.06192989]\n",
      " [ 0.00586434  0.92070634]\n",
      " [ 0.17279844  0.49716929]\n",
      " [ 0.0534399   0.45611486]]\n",
      "db2:\n",
      "[[-136.2092569  136.2092569]]\n",
      "delta3\n",
      "[[-0.02544189  0.02544189]\n",
      " [ 0.27545237 -0.27545237]\n",
      " [ 0.75980806 -0.75980806]\n",
      " [-0.239426    0.239426  ]]\n",
      "act1:\n",
      "[[ 0.62005793  0.02085555]\n",
      " [ 0.01106465  0.711333  ]\n",
      " [ 0.25044881  0.3434354 ]\n",
      " [ 0.11689283  0.17413828]]\n",
      "db2:\n",
      "[[ 91.25357788 -91.25357788]]\n",
      "delta3\n",
      "[[-0.25900042  0.25900042]\n",
      " [ 0.01625891 -0.01625891]\n",
      " [ 0.13283139 -0.13283139]\n",
      " [-0.83803507  0.83803507]]\n",
      "act1:\n",
      "[[ 0.49415397  0.03450636]\n",
      " [ 0.00632427  0.88592116]\n",
      " [ 0.16909534  0.47505175]\n",
      " [ 0.07155117  0.32939777]]\n",
      "db2:\n",
      "[[-62.65742521  62.65742521]]\n"
     ]
    },
    {
     "data": {
      "image/png": "[encoded data removed]",
      "text/plain": [
       "<matplotlib.figure.Figure at 0x7fa0ea667650>"
      ]
     },
     "metadata": {},
     "output_type": "display_data"
    }
   ],
   "source": [
    "model = build_model(2, nb_epoch=10, print_loss=True, model=None)\n",
    "\n",
    "# Plot the decision boundary\n",
    "plot_decision_boundary(lambda x: predict(model, x))\n",
    "plt.title(\"Decision Boundary for hidden layer size 3\")\n",
    "plt.show()"
   ]
  },
  {
   "cell_type": "code",
   "execution_count": 12,
   "metadata": {
    "collapsed": false,
    "deletable": true,
    "editable": true
   },
   "outputs": [
    {
     "name": "stdout",
     "output_type": "stream",
     "text": [
      "(500, 2)\n"
     ]
    },
    {
     "data": {
      "image/png": "[encoded data removed]",
      "text/plain": [
       "<matplotlib.figure.Figure at 0x7fa0ea6fcdd0>"
      ]
     },
     "metadata": {},
     "output_type": "display_data"
    },
    {
     "data": {
      "image/png": "[encoded data removed]",
      "text/plain": [
       "<matplotlib.figure.Figure at 0x7fa0ea6f1290>"
      ]
     },
     "metadata": {},
     "output_type": "display_data"
    }
   ],
   "source": [
    "z1 = X.dot(model['W1']) + model['b1']\n",
    "a1 = sigmoid(z1)\n",
    "#a1 = tanh(z1)\n",
    "\n",
    "print a1.shape\n",
    "\n",
    "plt.figure(0)\n",
    "plt.scatter(z1[:, 0], z1[:, 1])\n",
    "\n",
    "plt.figure(1)\n",
    "plt.scatter(a1[:, 0], a1[:, 1])\n",
    "\n",
    "plt.show()"
   ]
  },
  {
   "cell_type": "code",
   "execution_count": 13,
   "metadata": {
    "collapsed": true,
    "deletable": true,
    "editable": true
   },
   "outputs": [],
   "source": [
    "def sigmoid(z):\n",
    "    return 1.0 / (1.0 + np.exp(-1.0 * z))\n",
    "\n",
    "def d_sigmoid(z):\n",
    "    y = sigmoid(z)\n",
    "    return y*(1 - y)\n",
    "\n",
    "def tanh(z):\n",
    "    return np.tanh(z)\n",
    "\n",
    "def d_tanh(z):\n",
    "    return (1.0 - np.tanh(z)**2)\n",
    "\n",
    "def calculate_loss(model):\n",
    "    W1, b1, W2, b2 = model['W1'], model['b1'], model['W2'], model['b2']\n",
    "    z1 = X.dot(W1) + b1\n",
    "    # a1 = np.tanh(z1)\n",
    "    a1 = sigmoid(z1)\n",
    "    z2 = a1.dot(W2) + b2\n",
    "    exp_scores = np.exp(z2)\n",
    "    probs = exp_scores / np.sum(exp_scores, axis=1, keepdims=True)\n",
    "    corect_logprobs = -np.log(probs[range(num_examples), y])\n",
    "    data_loss = np.sum(corect_logprobs)\n",
    "    return 1./num_examples * data_loss\n",
    "\n",
    "\n",
    "def predict(model, x):\n",
    "    W1, b1, W2, b2 = model['W1'], model['b1'], model['W2'], model['b2']\n",
    "    z1 = x.dot(W1) + b1\n",
    "    # a1 = np.tanh(z1)\n",
    "    a1 = sigmoid(z1)\n",
    "    z2 = a1.dot(W2) + b2\n",
    "    exp_scores = np.exp(z2)\n",
    "    probs = exp_scores / np.sum(exp_scores, axis=1, keepdims=True)\n",
    "    return np.argmax(probs, axis=1)\n",
    "\n",
    "def build_model(nn_hdim1=16, nn_hdim2=16, nb_epoch=10000, print_loss=True, model=None):\n",
    "    \n",
    "    # Initialize weights and biases\n",
    "    if model is None:\n",
    "        W1 = np.random.randn(nn_input_dim, nn_hdim1)\n",
    "        b1 = np.zeros((1, nn_hdim1))\n",
    "        W2 = np.random.randn(nn_hdim1, nn_hdim2)\n",
    "        b2 = np.zeros((1, nn_hdim2))\n",
    "        W3 = np.random.randn(nn_hdim2, nn_output_dim)\n",
    "        b3 = np.zeros((1, nn_output_dim))\n",
    "    else:\n",
    "        W1, b1, W2, b2 = model['W1'], model['b1'], model['W2'], model['b2']\n",
    "    \n",
    "    # Init model object\n",
    "    if model is None:\n",
    "        model = {}\n",
    "    \n",
    "    for i in xrange(0, nb_epoch):\n",
    "\n",
    "        # Forward propagation, store vals\n",
    "        \n",
    "        z1 = X.dot(W1) + b1\n",
    "        a1 = sigmoid(z1)\n",
    "        # a1 = tanh(z1)\n",
    "        z2 = a1.dot(W2) + b2\n",
    "        exp_scores = np.exp(z2)\n",
    "        probs = exp_scores / np.sum(exp_scores, axis=1, keepdims=True)\n",
    "        a2 = probs\n",
    "        \n",
    "        # Backpropagation\n",
    "        delta3 = probs\n",
    "        # compute loss gradient\n",
    "        delta3[range(num_examples), y] -= 1\n",
    "        \n",
    "        dW2 = (a1.T).dot(delta3)\n",
    "        db2 = np.sum(delta3, axis=0, keepdims=True)\n",
    "        \n",
    "        # delta2 = delta3.dot(W2.T) * (1 - np.power(a1, 2))\n",
    "        delta2 = delta3.dot(W2.T) * (1 - a1) * a1 # gradient for sigmoid\n",
    "        \n",
    "        dW1 = np.dot(X.T, delta2)\n",
    "        db1 = np.sum(delta2, axis=0,keepdims=True)\n",
    "\n",
    "        W1 += -epsilon * dW1\n",
    "        b1 += -epsilon * db1\n",
    "        W2 += -epsilon * dW2\n",
    "        b2 += -epsilon * db2\n",
    "        \n",
    "        model = { 'W1': W1, 'b1': b1, 'W2': W2, 'b2': b2}\n",
    "        \n",
    "        if print_loss and i % 1000 == 0:\n",
    "            print \"Loss after iteration %i: %f\" %(i, calculate_loss(model))\n",
    "    \n",
    "    return model"
   ]
  }
 ],
 "metadata": {
  "kernelspec": {
   "display_name": "Python 2",
   "language": "python",
   "name": "python2"
  },
  "language_info": {
   "codemirror_mode": {
    "name": "ipython",
    "version": 2
   },
   "file_extension": ".py",
   "mimetype": "text/x-python",
   "name": "python",
   "nbconvert_exporter": "python",
   "pygments_lexer": "ipython2",
   "version": "2.7.12"
  }
 },
 "nbformat": 4,
 "nbformat_minor": 2
}
