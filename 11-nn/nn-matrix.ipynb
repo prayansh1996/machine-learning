{
 "cells": [
  {
   "cell_type": "code",
   "execution_count": 214,
   "metadata": {
    "collapsed": false,
    "deletable": true,
    "editable": true
   },
   "outputs": [],
   "source": [
    "import numpy as np\n",
    "from numpy import array as npa\n",
    "from numpy import transpose as tr\n",
    "from matplotlib import pyplot as plt\n",
    "from mpl_toolkits.mplot3d import Axes3D\n",
    "%matplotlib inline\n",
    "import sklearn\n",
    "from sklearn.datasets import make_moons, make_blobs, make_s_curve\n",
    "import sklearn.datasets as dt"
   ]
  },
  {
   "cell_type": "code",
   "execution_count": 3,
   "metadata": {
    "collapsed": false,
    "deletable": true,
    "editable": true
   },
   "outputs": [
    {
     "name": "stdout",
     "output_type": "stream",
     "text": [
      "[1 0] \n",
      "smf:\n",
      "[[ 2.71828183  0.36787944]\n",
      " [ 2.71828183  0.36787944]] \n",
      "-> [ 0.36787944  2.71828183]\n"
     ]
    }
   ],
   "source": [
    "#Testing\n",
    "e = np.exp(1)\n",
    "yt = npa([1,0])\n",
    "smf = npa([[e, 1/e], [e,1/e]])\n",
    "\"\"\"print smf\n",
    "print yt\n",
    "print -np.log(smf[1,yt[:2]])\n",
    "print '[-1*log(1/e) -> 1st, -1*log(e) -> 0th]'\"\"\"\n",
    "print yt, '\\nsmf:\\n', smf, '\\n->', smf[1,yt[:2]]"
   ]
  },
  {
   "cell_type": "code",
   "execution_count": 4,
   "metadata": {
    "collapsed": false,
    "deletable": true,
    "editable": true
   },
   "outputs": [
    {
     "name": "stdout",
     "output_type": "stream",
     "text": [
      "[[ 5  7  9]\n",
      " [10 14 18]]\n"
     ]
    }
   ],
   "source": [
    "#conversion from 2 dimentional data to 3 dimentional\n",
    "x = npa([[1,1],[2,2]])\n",
    "y = npa([[1,2,3],[4,5,6]])\n",
    "print x.dot(y)"
   ]
  },
  {
   "cell_type": "code",
   "execution_count": 194,
   "metadata": {
    "collapsed": false,
    "deletable": true,
    "editable": true
   },
   "outputs": [
    {
     "name": "stdout",
     "output_type": "stream",
     "text": [
      "(500, 2)\n"
     ]
    },
    {
     "data": {
      "image/png": "[encoded data removed]",
      "text/plain": [
       "<matplotlib.figure.Figure at 0x7f075848b450>"
      ]
     },
     "metadata": {},
     "output_type": "display_data"
    }
   ],
   "source": [
    "a = np.array([1,2])\n",
    "#Supervised\n",
    "xt, lab = make_moons(n_samples = 600, noise=0.2)\n",
    "xtest = xt[500:]\n",
    "testlab = lab[500:]\n",
    "\n",
    "xt = xt[:500]\n",
    "lab = lab[:500]\n",
    "\n",
    "print xt.shape\n",
    "for i in range(xt.shape[0]):\n",
    "    if lab[i] == 1:\n",
    "        plt.scatter(xt[i,0],xt[i,1], color='r')\n",
    "    else:\n",
    "        plt.scatter(xt[i,0],xt[i,1], color = 'b')"
   ]
  },
  {
   "cell_type": "markdown",
   "metadata": {
    "deletable": true,
    "editable": true
   },
   "source": [
    "Lets make a neural net now:\n",
    "\n",
    "we are going to make a 2 layer network\n",
    "\n",
    "2 inputs - x and y coordinate\n",
    "\n",
    "k hidden inputs (or dimentions)\n",
    "\n",
    "2 outputs - which class does that point belong to"
   ]
  },
  {
   "cell_type": "code",
   "execution_count": 195,
   "metadata": {
    "collapsed": false,
    "deletable": true,
    "editable": true
   },
   "outputs": [
    {
     "name": "stdout",
     "output_type": "stream",
     "text": [
      "(2, 3)\n",
      "(2, 2)\n",
      "(2, 2)\n",
      "0.0815137060768\n",
      "[ 0.08151371  0.91848629]\n"
     ]
    }
   ],
   "source": [
    "#X(MxN)\n",
    "xm = x.shape[0] #Enter number of trainibg inputs\n",
    "xn = x.shape[1] #No. of dimentions in input data, No. of attributes in x\n",
    "\n",
    "k=3 #No. of hidden dimentions\n",
    "#ym = No of outputs\n",
    "yn = 2 #here\n",
    "\n",
    "model = {\n",
    "    'w1': np.random.randn(xn,k), #z1 = x(xm,xn)*w1(xn,k)\n",
    "    'b1': np.random.randn(1,k),\n",
    "    'w2': np.random.randn(k,yn),  #z2 = z1(xm,k)*(k,ym)\n",
    "    'b2': np.random.randn(1,yn)\n",
    "}\n",
    "\n",
    "z1 = x.dot(model['w1']) + model['b1']\n",
    "print z1.shape\n",
    "z2 = z1.dot(model['w2']) + model['b2']\n",
    "print z2.shape\n",
    "sfm = np.exp(z2)/(np.sum(np.exp(z2), axis=1, keepdims=True)) #axis = 1 is important as were recieveing multiple outputs \n",
    "print sfm.shape\n",
    "\n",
    "#softmax check\n",
    "print np.exp(z2[0,0])/(np.exp(z2[0,0])+np.exp(z2[0,1]))\n",
    "print sfm[0]\n",
    "\n",
    "act1 = 0"
   ]
  },
  {
   "cell_type": "code",
   "execution_count": 196,
   "metadata": {
    "collapsed": true
   },
   "outputs": [],
   "source": [
    "def plot_decision_boundary(pred_func):\n",
    "    # Set min and max values and give it some padding\n",
    "    X = xt\n",
    "    y = lab\n",
    "    x_min, x_max = X[:, 0].min() - .5, X[:, 0].max() + .5\n",
    "    y_min, y_max = X[:, 1].min() - .5, X[:, 1].max() + .5\n",
    "    h = 0.01\n",
    "    # Generate a grid of points with distance h between them\n",
    "    xx, yy = np.meshgrid(np.arange(x_min, x_max, h), np.arange(y_min, y_max, h))\n",
    "    # Predict the function value for the whole gid\n",
    "    Z = pred_func(np.c_[xx.ravel(), yy.ravel()])\n",
    "    print Z\n",
    "    Z = Z.reshape(xx.shape)\n",
    "    # Plot the contour and training examples\n",
    "    plt.contourf(xx, yy, Z, cmap=plt.cm.Spectral)\n",
    "    plt.scatter(X[:, 0], X[:, 1], c=y, cmap=plt.cm.Spectral)\n",
    "    \n",
    "#plot_decision_boundary(lambda x: nn.predict(x))"
   ]
  },
  {
   "cell_type": "code",
   "execution_count": 202,
   "metadata": {
    "collapsed": false,
    "deletable": true,
    "editable": true
   },
   "outputs": [],
   "source": [
    "class NeuralNet:\n",
    "    \n",
    "    def __init__(self, model=None):\n",
    "        self.mdl = model\n",
    "        self.alpha = 0.01\n",
    "        self.nbepoch = 10000\n",
    "        if self.mdl is None:\n",
    "            self.w1 = np.random.randn(xn,k)\n",
    "            self.b1 = np.random.randn(1,k)\n",
    "            self.w2 = np.random.randn(k,yn)\n",
    "            self.b2 = np.random.randn(1,yn)\n",
    "        else:\n",
    "            self.w1 = self.mdl['w1']\n",
    "            self.b1 = self.mdl['b1']\n",
    "            self.w2 = self.mdl['w2']\n",
    "            self.b2 = self.mdl['b2'] \n",
    "    \n",
    "    def sigmoid(self, arr):\n",
    "        return 1./(1. + np.exp(-arr))\n",
    "    \n",
    "    def dsigmoid(self, arr):\n",
    "        sig = self.sigmoid(arr)\n",
    "        return sig*(1 - sig)\n",
    "        \n",
    "    def loss(self,smf,yt):\n",
    "        dataloss = -np.log(smf[range(yt.shape[0]),yt] + 1e-7) #when yt = 0 return -log(smf[0]) else return -log(smf[1])\n",
    "        #print dataloss[:10]\n",
    "        return 1./yt.shape[0] * np.sum(dataloss)\n",
    "    \n",
    "    def fit(self,xt,yt, k=3, print_loss=True):\n",
    "        for i in xrange(self.nbepoch):\n",
    "            self.z1 = xt.dot(self.w1) + self.b1\n",
    "            act1 = self.sigmoid(self.z1)\n",
    "            self.z2 = act1.dot(self.w2) + self.b2\n",
    "            smf = np.exp(self.z2)/(np.sum(np.exp(self.z2), axis=1, keepdims=True))\n",
    "            #print dz2[:4] print yt[:4] print dz2[:4]\n",
    "            \n",
    "            dz2 = npa(smf)\n",
    "            dz2[range(yt.shape[0]),yt] -= 1\n",
    "            dw2 = (act1.T).dot(dz2)\n",
    "            db2 = np.sum(dz2, axis=0, keepdims=True)\n",
    "            \n",
    "            dz1 = dz2.dot(self.w2.T) * (1 - act1) * act1\n",
    "            dw1 = np.dot(xt.T, dz1)\n",
    "            db1 = np.sum(dz1, axis=0, keepdims=True)\n",
    "            \n",
    "            self.w1 += -self.alpha * dw1\n",
    "            self.b1 += -self.alpha * db1\n",
    "            self.w2 += -self.alpha * dw2\n",
    "            self.b2 += -self.alpha * db2\n",
    "            \n",
    "            if print_loss and i % 200 == 0:\n",
    "                print \"Loss after iteration %i: \" %(i), self.loss(smf,yt)                \n",
    "            \n",
    "        self.mdl = { 'w1': self.w1, 'b1': self.b1, 'w2': self.w2, 'b2': self.b2}\n",
    "        return self.mdl\n",
    "        \n",
    "    def predict(self,test, printEnable = False):\n",
    "        z1 = test.dot(self.w1) + self.b1\n",
    "        act1 = self.sigmoid(z1)\n",
    "        z2 = act1.dot(self.w2) + self.b2\n",
    "        sfm = np.exp(z2)/(np.sum(np.exp(z2), axis=1, keepdims=True))\n",
    "        prediction = sfm.argmax(axis=1)\n",
    "        \n",
    "        if printEnable:\n",
    "            print 'z1:  ', z1\n",
    "            print 'act1:', act1\n",
    "            print 'z2:  ', z2\n",
    "            print 'sfm: ', sfm\n",
    "            \n",
    "        return prediction\n",
    "    "
   ]
  },
  {
   "cell_type": "code",
   "execution_count": 203,
   "metadata": {
    "collapsed": false,
    "deletable": true,
    "editable": true
   },
   "outputs": [
    {
     "name": "stdout",
     "output_type": "stream",
     "text": [
      "Loss after iteration 0:  0.881210793123\n"
     ]
    }
   ],
   "source": [
    "nn = NeuralNet()\n",
    "nn.nbepoch = 1\n",
    "mdl = nn.fit(xt,lab)"
   ]
  },
  {
   "cell_type": "code",
   "execution_count": 205,
   "metadata": {
    "collapsed": false
   },
   "outputs": [
    {
     "name": "stdout",
     "output_type": "stream",
     "text": [
      "Loss after iteration 0:  0.260234289939\n",
      "Loss after iteration 200:  0.112323033747\n",
      "Loss after iteration 400:  0.0968152790095\n",
      "Loss after iteration 600:  0.0953438048756\n",
      "Loss after iteration 800:  0.0948702289058\n",
      "[0 0 0 ..., 1 1 1]\n"
     ]
    },
    {
     "data": {
      "image/png": "[encoded data removed]",
      "text/plain": [
       "<matplotlib.figure.Figure at 0x7f0758b13150>"
      ]
     },
     "metadata": {},
     "output_type": "display_data"
    }
   ],
   "source": [
    "nn.nbepoch = 1000\n",
    "nn.mdl = mdl\n",
    "mdl = nn.fit(xt,lab)\n",
    "plot_decision_boundary(lambda x: nn.predict(x))"
   ]
  },
  {
   "cell_type": "code",
   "execution_count": 219,
   "metadata": {
    "collapsed": false,
    "deletable": true,
    "editable": true,
    "scrolled": true
   },
   "outputs": [
    {
     "name": "stdout",
     "output_type": "stream",
     "text": [
      "0.98\n"
     ]
    },
    {
     "ename": "IndexError",
     "evalue": "index 2 is out of bounds for axis 0 with size 2",
     "output_type": "error",
     "traceback": [
      "\u001b[0;31m---------------------------------------------------------------------------\u001b[0m",
      "\u001b[0;31mIndexError\u001b[0m                                Traceback (most recent call last)",
      "\u001b[0;32m<ipython-input-219-903dfff7b259>\u001b[0m in \u001b[0;36m<module>\u001b[0;34m()\u001b[0m\n\u001b[1;32m      5\u001b[0m         \u001b[0mcnt\u001b[0m \u001b[0;34m+=\u001b[0m\u001b[0;36m1\u001b[0m\u001b[0;34m\u001b[0m\u001b[0m\n\u001b[1;32m      6\u001b[0m \u001b[0;32mprint\u001b[0m \u001b[0mcnt\u001b[0m\u001b[0;34m/\u001b[0m\u001b[0mtestlab\u001b[0m\u001b[0;34m.\u001b[0m\u001b[0mshape\u001b[0m\u001b[0;34m[\u001b[0m\u001b[0;36m0\u001b[0m\u001b[0;34m]\u001b[0m\u001b[0;34m\u001b[0m\u001b[0m\n\u001b[0;32m----> 7\u001b[0;31m \u001b[0;32mprint\u001b[0m \u001b[0mz1\u001b[0m\u001b[0;34m[\u001b[0m\u001b[0;36m2\u001b[0m\u001b[0;34m]\u001b[0m\u001b[0;34m\u001b[0m\u001b[0m\n\u001b[0m",
      "\u001b[0;31mIndexError\u001b[0m: index 2 is out of bounds for axis 0 with size 2"
     ]
    }
   ],
   "source": [
    "prediction = nn.predict(xtest)\n",
    "cnt = 0.0\n",
    "for i in range(testlab.shape[0]):\n",
    "    if testlab[i] == prediction[i]:\n",
    "        cnt +=1\n",
    "print cnt/testlab.shape[0]\n",
    "print z1[2]"
   ]
  },
  {
   "cell_type": "code",
   "execution_count": 211,
   "metadata": {
    "collapsed": false,
    "deletable": true,
    "editable": true
   },
   "outputs": [
    {
     "name": "stdout",
     "output_type": "stream",
     "text": [
      "Object `matplot3d` not found.\n"
     ]
    }
   ],
   "source": [
    "fig = plt.figure()\n",
    "ax = fig.add_subplot(111, projection='3d')\n",
    "Axes3D.scatter(z1, ys, zs=0, zdir='z', s=20, c=None, depthshade=True, *args, **kwargs)"
   ]
  },
  {
   "cell_type": "code",
   "execution_count": null,
   "metadata": {
    "collapsed": true,
    "deletable": true,
    "editable": true
   },
   "outputs": [],
   "source": []
  },
  {
   "cell_type": "code",
   "execution_count": null,
   "metadata": {
    "collapsed": true,
    "deletable": true,
    "editable": true
   },
   "outputs": [],
   "source": []
  }
 ],
 "metadata": {
  "kernelspec": {
   "display_name": "Python 2",
   "language": "python",
   "name": "python2"
  },
  "language_info": {
   "codemirror_mode": {
    "name": "ipython",
    "version": 2
   },
   "file_extension": ".py",
   "mimetype": "text/x-python",
   "name": "python",
   "nbconvert_exporter": "python",
   "pygments_lexer": "ipython2",
   "version": "2.7.12"
  }
 },
 "nbformat": 4,
 "nbformat_minor": 2
}
