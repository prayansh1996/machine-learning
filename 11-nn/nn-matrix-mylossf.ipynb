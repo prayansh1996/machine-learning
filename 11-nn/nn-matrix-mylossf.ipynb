{
 "cells": [
  {
   "cell_type": "code",
   "execution_count": 3,
   "metadata": {
    "collapsed": false,
    "deletable": true,
    "editable": true
   },
   "outputs": [],
   "source": [
    "import numpy as np\n",
    "from numpy import array as npa\n",
    "from numpy import transpose as tr\n",
    "from matplotlib import pyplot as plt\n",
    "%matplotlib inline\n",
    "import sklearn\n",
    "from sklearn.datasets import make_moons, make_blobs, make_s_curve\n",
    "import sklearn.datasets as dt"
   ]
  },
  {
   "cell_type": "code",
   "execution_count": 4,
   "metadata": {
    "collapsed": false,
    "deletable": true,
    "editable": true
   },
   "outputs": [
    {
     "name": "stdout",
     "output_type": "stream",
     "text": [
      "[1 0] \n",
      "smf:\n",
      "[[ 2.71828183  0.36787944]\n",
      " [ 2.71828183  0.36787944]] \n",
      "-> [ 0.36787944  2.71828183]\n"
     ]
    }
   ],
   "source": [
    "#Testing\n",
    "e = np.exp(1)\n",
    "yt = npa([1,0])\n",
    "smf = npa([[e, 1/e], [e,1/e]])\n",
    "\"\"\"print smf\n",
    "print yt\n",
    "print -np.log(smf[1,yt[:2]])\n",
    "print '[-1*log(1/e) -> 1st, -1*log(e) -> 0th]'\"\"\"\n",
    "print yt, '\\nsmf:\\n', smf, '\\n->', smf[1,yt[:2]]"
   ]
  },
  {
   "cell_type": "code",
   "execution_count": 5,
   "metadata": {
    "collapsed": false,
    "deletable": true,
    "editable": true
   },
   "outputs": [
    {
     "name": "stdout",
     "output_type": "stream",
     "text": [
      "[[ 5  7  9]\n",
      " [10 14 18]]\n"
     ]
    }
   ],
   "source": [
    "#conversion from 2 dimentional data to 3 dimentional\n",
    "x = npa([[1,1],[2,2]])\n",
    "y = npa([[1,2,3],[4,5,6]])\n",
    "print x.dot(y)"
   ]
  },
  {
   "cell_type": "code",
   "execution_count": 28,
   "metadata": {
    "collapsed": false,
    "deletable": true,
    "editable": true
   },
   "outputs": [
    {
     "name": "stdout",
     "output_type": "stream",
     "text": [
      "(500,)\n"
     ]
    },
    {
     "data": {
      "image/png": "[encoded data removed]",
      "text/plain": [
       "<matplotlib.figure.Figure at 0x7f87cd1bc2d0>"
      ]
     },
     "metadata": {},
     "output_type": "display_data"
    }
   ],
   "source": [
    "a = np.array([1,2])\n",
    "#Supervised\n",
    "xt, lab = make_moons(n_samples = 600, noise = 0.1)\n",
    "test = xt[500:]\n",
    "testlab = lab[500:]\n",
    "\n",
    "xt = xt[:500]\n",
    "lab = lab[:500]\n",
    "\n",
    "print lab.shape\n",
    "for i in range(xt.shape[0]):\n",
    "    if lab[i] == 1:\n",
    "        plt.scatter(xt[i,0],xt[i,1], color='r')\n",
    "    else:\n",
    "        plt.scatter(xt[i,0],xt[i,1], color = 'b')"
   ]
  },
  {
   "cell_type": "markdown",
   "metadata": {
    "deletable": true,
    "editable": true
   },
   "source": [
    "Lets make a neural net now:\n",
    "\n",
    "we are going to make a 2 layer network\n",
    "\n",
    "2 inputs - x and y coordinate\n",
    "\n",
    "k hidden inputs (or dimentions)\n",
    "\n",
    "2 outputs - which class does that point belong to"
   ]
  },
  {
   "cell_type": "code",
   "execution_count": 7,
   "metadata": {
    "collapsed": false,
    "deletable": true,
    "editable": true
   },
   "outputs": [
    {
     "name": "stdout",
     "output_type": "stream",
     "text": [
      "(2, 3)\n",
      "(2, 2)\n",
      "(2, 2)\n",
      "0.990292003773\n",
      "[ 0.990292  0.009708]\n"
     ]
    }
   ],
   "source": [
    "#X(MxN)\n",
    "xm = x.shape[0] #Enter number of trainibg inputs\n",
    "xn = x.shape[1] #No. of dimentions in input data, No. of attributes in x\n",
    "\n",
    "k=3 #No. of hidden dimentions\n",
    "#ym = No of outputs\n",
    "yn = 2 #here\n",
    "\n",
    "model = {\n",
    "    'w1': np.random.randn(xn,k), #z1 = x(xm,xn)*w1(xn,k)\n",
    "    'b1': np.random.randn(1,k),\n",
    "    'w2': np.random.randn(k,yn),  #z2 = z1(xm,k)*(k,ym)\n",
    "    'b2': np.random.randn(1,yn)\n",
    "}\n",
    "\n",
    "z1 = x.dot(model['w1']) + model['b1']\n",
    "print z1.shape\n",
    "z2 = z1.dot(model['w2']) + model['b2']\n",
    "print z2.shape\n",
    "sfm = np.exp(z2)/(np.sum(np.exp(z2), axis=1, keepdims=True)) #axis = 1 is important as were recieveing multiple outputs \n",
    "print sfm.shape\n",
    "\n",
    "#softmax check\n",
    "print np.exp(z2[0,0])/(np.exp(z2[0,0])+np.exp(z2[0,1]))\n",
    "print sfm[0]\n",
    "\n",
    "act1 = 0"
   ]
  },
  {
   "cell_type": "code",
   "execution_count": 26,
   "metadata": {
    "collapsed": false,
    "deletable": true,
    "editable": true
   },
   "outputs": [],
   "source": [
    "class NeuralNet:\n",
    "    \n",
    "    def __init__(self, model=None):\n",
    "        self.mdl = model\n",
    "        self.alpha = 0.1\n",
    "        self.nbepoch = 10000\n",
    "        if self.mdl is None:\n",
    "            self.w1 = np.ones((xn,k))\n",
    "            self.b1 = np.ones((1,k))\n",
    "            self.w2 = np.ones((k,yn))\n",
    "            self.b2 = np.ones((1,yn))\n",
    "        else:\n",
    "            self.w1 = self.mdl['w1']\n",
    "            self.b1 = self.mdl['b1']\n",
    "            self.w2 = self.mdl['w2']\n",
    "            self.b2 = self.mdl['b2'] \n",
    "    \n",
    "    def sigmoid(self, arr):\n",
    "        return 1./(1. + np.exp(-arr))\n",
    "    \n",
    "    def dsigmoid(self, arr):\n",
    "        sig = self.sigmoid(arr)\n",
    "        return sig*(1 - sig)\n",
    "        \n",
    "    def loss(self,smf,yt):\n",
    "        return -np.log(smf[range(yt.shape[0]),yt]) #when yt = 0 return -log(smf[0]) else return -log(smf[1])\n",
    "    \n",
    "    def fit(self,xt,yt, k=3):\n",
    "        for i in xrange(self.nbepoch):\n",
    "            z1 = xt.dot(self.w1) + self.b1\n",
    "            act1 = self.sigmoid(z1)\n",
    "            z2 = act1.dot(self.w2) + self.b2\n",
    "            smf = np.exp(z2)/(np.sum(np.exp(z2), axis=1, keepdims=True))\n",
    "            \n",
    "            L = self.loss(smf,yt)\n",
    "            #print dz2[:4] print yt[:4] print dz2[:4]\n",
    "            #HUGE DOUBT!!!\n",
    "            \n",
    "            dz2 = smf\n",
    "            for ix in range(smf.shape[0]):\n",
    "                dz2[ix] = (smf[ix,1] - 1) * z2[ix]  \n",
    "                dz2[ix] = (smf[ix,0] - 0) * z2[ix]\n",
    "                \n",
    "            dw2 = act1.T.dot(dz2)\n",
    "            db2 = np.sum(dz2, axis=0, keepdims=True)\n",
    "            dz1 = dz2.dot(self.w2.T) * (1 - act1) * act1\n",
    "            dw1 = np.dot(xt.T, dz1)\n",
    "            db1 = np.sum(dz1, axis=0, keepdims=True)\n",
    "            \n",
    "            self.w1 += -self.alpha * dw1\n",
    "            self.b1 += -self.alpha * db1\n",
    "            self.w2 += -self.alpha * dw2\n",
    "            self.b2 += -self.alpha * db2\n",
    "            \n",
    "        self.mdl = { 'w1': self.w1, 'b1': self.b1, 'w2': self.w2, 'b2': self.b2}\n",
    "        return self.mdl\n",
    "        \n",
    "    def predict(self,test, printEnable = False):\n",
    "        z1 = test.dot(self.w1) + self.b1\n",
    "        act1 = self.sigmoid(z1)\n",
    "        z2 = act1.dot(self.w2) + self.b2\n",
    "        sfm = np.exp(z2)/(np.sum(np.exp(z2), axis=1, keepdims=True))\n",
    "        \n",
    "        if printEnable:\n",
    "            print 'z1:  ', z1\n",
    "            print 'act1:', act1\n",
    "            print 'z2:  ', z2\n",
    "            print 'sfm: ', sfm\n",
    "        return sfm.argmax(axis=1)\n",
    "    "
   ]
  },
  {
   "cell_type": "code",
   "execution_count": 27,
   "metadata": {
    "collapsed": false,
    "deletable": true,
    "editable": true
   },
   "outputs": [
    {
     "data": {
      "text/plain": [
       "{'b1': array([[ nan,  nan,  nan]]),\n",
       " 'b2': array([[ nan,  nan]]),\n",
       " 'w1': array([[ nan,  nan,  nan],\n",
       "        [ nan,  nan,  nan]]),\n",
       " 'w2': array([[ nan,  nan],\n",
       "        [ nan,  nan],\n",
       "        [ nan,  nan]])}"
      ]
     },
     "execution_count": 27,
     "metadata": {},
     "output_type": "execute_result"
    }
   ],
   "source": [
    "nn = NeuralNet(model)\n",
    "nn.fit(xt,lab)"
   ]
  },
  {
   "cell_type": "code",
   "execution_count": 152,
   "metadata": {
    "collapsed": true,
    "deletable": true,
    "editable": true
   },
   "outputs": [],
   "source": [
    "#testing the net\n",
    "w1 = np.ones((xn,k))\n",
    "b1 = np.ones((1,k))\n",
    "w2 = np.ones((k,yn))\n",
    "b2 = np.ones((1,yn))"
   ]
  },
  {
   "cell_type": "code",
   "execution_count": 153,
   "metadata": {
    "collapsed": false,
    "deletable": true,
    "editable": true,
    "scrolled": true
   },
   "outputs": [
    {
     "name": "stdout",
     "output_type": "stream",
     "text": [
      "z1:   [[-0.95384893  0.6991108  -0.12410195]\n",
      " [ 0.78519316  1.99094453  0.25707027]\n",
      " [ 0.15852892  1.55728537  0.45602083]\n",
      " [-0.6671443   0.80408575 -1.20153023]]\n",
      "act1: [[ 0.27811143  0.6679906   0.46901427]\n",
      " [ 0.68679828  0.87984303  0.56391596]\n",
      " [ 0.53954944  0.82596348  0.61206978]\n",
      " [ 0.33913657  0.69084778  0.23120311]]\n",
      "z2:   [[-16.10924668  12.77139054]\n",
      " [-10.61897283   6.29093826]\n",
      " [-19.74388954  15.54126121]\n",
      " [  7.50983525 -10.37233573]]\n",
      "sfm:  [[  2.86614807e-13   1.00000000e+00]\n",
      " [  4.53021593e-08   9.99999955e-01]\n",
      " [  4.74082295e-16   1.00000000e+00]\n",
      " [  9.99999983e-01   1.71345148e-08]]\n"
     ]
    },
    {
     "data": {
      "text/plain": [
       "array([1, 1, 1, 0])"
      ]
     },
     "execution_count": 153,
     "metadata": {},
     "output_type": "execute_result"
    }
   ],
   "source": [
    "nn = NeuralNet(model)\n",
    "test = xt[50:54]\n",
    "nn.predict(test, printEnable = True)"
   ]
  },
  {
   "cell_type": "code",
   "execution_count": 154,
   "metadata": {
    "collapsed": false,
    "deletable": true,
    "editable": true
   },
   "outputs": [
    {
     "name": "stdout",
     "output_type": "stream",
     "text": [
      "[1 1 1 ..., 0 0 0]\n"
     ]
    },
    {
     "data": {
      "image/png": "[encoded data removed]",
      "text/plain": [
       "<matplotlib.figure.Figure at 0x7efecb01c4d0>"
      ]
     },
     "metadata": {},
     "output_type": "display_data"
    }
   ],
   "source": [
    "def plot_decision_boundary(pred_func):\n",
    "    # Set min and max values and give it some padding\n",
    "    X = xt\n",
    "    x_min, x_max = X[:, 0].min() - .5, X[:, 0].max() + .5\n",
    "    y_min, y_max = X[:, 1].min() - .5, X[:, 1].max() + .5\n",
    "    h = 0.01\n",
    "    # Generate a grid of points with distance h between them\n",
    "    xx, yy = np.meshgrid(np.arange(x_min, x_max, h), np.arange(y_min, y_max, h))\n",
    "    # Predict the function value for the whole gid\n",
    "    Z = pred_func(np.c_[xx.ravel(), yy.ravel()])\n",
    "    print Z\n",
    "    Z = Z.reshape(xx.shape)\n",
    "    # Plot the contour and training examples\n",
    "    plt.contourf(xx, yy, Z, cmap=plt.cm.Spectral)\n",
    "    plt.scatter(X[:, 0], X[:, 1], c=y, cmap=plt.cm.Spectral)\n",
    "    \n",
    "plot_decision_boundary(lambda x: nn.predict(x))"
   ]
  },
  {
   "cell_type": "code",
   "execution_count": 130,
   "metadata": {
    "collapsed": false,
    "deletable": true,
    "editable": true
   },
   "outputs": [
    {
     "data": {
      "text/plain": [
       "array([1, 2])"
      ]
     },
     "execution_count": 130,
     "metadata": {},
     "output_type": "execute_result"
    }
   ],
   "source": [
    "a = npa([1,2])\n",
    "a.reshape((2))"
   ]
  },
  {
   "cell_type": "code",
   "execution_count": null,
   "metadata": {
    "collapsed": true,
    "deletable": true,
    "editable": true
   },
   "outputs": [],
   "source": []
  },
  {
   "cell_type": "code",
   "execution_count": null,
   "metadata": {
    "collapsed": true,
    "deletable": true,
    "editable": true
   },
   "outputs": [],
   "source": []
  }
 ],
 "metadata": {
  "kernelspec": {
   "display_name": "Python 2",
   "language": "python",
   "name": "python2"
  },
  "language_info": {
   "codemirror_mode": {
    "name": "ipython",
    "version": 2
   },
   "file_extension": ".py",
   "mimetype": "text/x-python",
   "name": "python",
   "nbconvert_exporter": "python",
   "pygments_lexer": "ipython2",
   "version": "2.7.12"
  }
 },
 "nbformat": 4,
 "nbformat_minor": 2
}
