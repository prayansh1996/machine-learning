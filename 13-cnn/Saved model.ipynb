{
 "cells": [
  {
   "cell_type": "code",
   "execution_count": 8,
   "metadata": {
    "collapsed": false
   },
   "outputs": [],
   "source": [
    "import numpy as np\n",
    "from matplotlib import pyplot as plt\n",
    "%matplotlib inline\n",
    "import pandas as pd\n",
    "from keras.models import load_model\n",
    "\n",
    "import keras\n",
    "from keras.layers import Dense, Activation, Convolution2D, Reshape, Flatten, ZeroPadding2D\n",
    "from keras.layers import MaxPooling2D, UpSampling2D, Input, Dropout\n",
    "from keras.models import Sequential, Model"
   ]
  },
  {
   "cell_type": "code",
   "execution_count": 9,
   "metadata": {
    "collapsed": false
   },
   "outputs": [],
   "source": [
    "model = load_model('non-dropout-model.h5')"
   ]
  },
  {
   "cell_type": "code",
   "execution_count": 11,
   "metadata": {
    "collapsed": false
   },
   "outputs": [
    {
     "data": {
      "image/png": "[encoded data removed]",
      "text/plain": [
       "<matplotlib.figure.Figure at 0x7f377788a510>"
      ]
     },
     "metadata": {},
     "output_type": "display_data"
    }
   ],
   "source": [
    "ds = pd.read_csv('train.csv')\n",
    "mnist = ds.values[:10000]\n",
    "img = mnist[254,1:].reshape((28,28))\n",
    "plt.imshow(img, cmap='gray')\n",
    "\n",
    "xt = mnist[:,1:]/255.0\n",
    "yt = mnist[:,0]\n",
    "xt = xt.reshape((xt.shape[0],28,28,1))\n",
    "\n",
    "split = int(0.3*xt.shape[0])\n",
    "xval = xt[split:]\n",
    "yval = yt[split:]\n",
    "\n",
    "xt = xt[:split]\n",
    "yt = yt[:split]"
   ]
  },
  {
   "cell_type": "code",
   "execution_count": 13,
   "metadata": {
    "collapsed": false
   },
   "outputs": [],
   "source": [
    "out = model.predict(xval[:100])"
   ]
  },
  {
   "cell_type": "code",
   "execution_count": 14,
   "metadata": {
    "collapsed": false
   },
   "outputs": [
    {
     "name": "stdout",
     "output_type": "stream",
     "text": [
      "(100, 28, 28, 1) (7000, 28, 28, 1)\n"
     ]
    },
    {
     "data": {
      "text/plain": [
       "<matplotlib.image.AxesImage at 0x7f377777cc90>"
      ]
     },
     "execution_count": 14,
     "metadata": {},
     "output_type": "execute_result"
    },
    {
     "data": {
      "image/png": "[encoded data removed]",
      "text/plain": [
       "<matplotlib.figure.Figure at 0x7f3777870d90>"
      ]
     },
     "metadata": {},
     "output_type": "display_data"
    }
   ],
   "source": [
    "print out.shape, xval.shape\n",
    "n = 11\n",
    "plt.subplot(1,2,1)\n",
    "plt.imshow((xval[n]*255).reshape((28,28)), cmap='gray')\n",
    "plt.subplot(1,2,2)\n",
    "plt.imshow((out[8]*255).reshape((28,28)), cmap='gray')"
   ]
  },
  {
   "cell_type": "code",
   "execution_count": null,
   "metadata": {
    "collapsed": true
   },
   "outputs": [],
   "source": []
  }
 ],
 "metadata": {
  "kernelspec": {
   "display_name": "Python 2",
   "language": "python",
   "name": "python2"
  },
  "language_info": {
   "codemirror_mode": {
    "name": "ipython",
    "version": 2
   },
   "file_extension": ".py",
   "mimetype": "text/x-python",
   "name": "python",
   "nbconvert_exporter": "python",
   "pygments_lexer": "ipython2",
   "version": "2.7.12"
  }
 },
 "nbformat": 4,
 "nbformat_minor": 2
}
