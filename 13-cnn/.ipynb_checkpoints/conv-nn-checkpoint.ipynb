{
 "cells": [
  {
   "cell_type": "code",
   "execution_count": 2,
   "metadata": {
    "collapsed": false,
    "deletable": true,
    "editable": true
   },
   "outputs": [
    {
     "name": "stderr",
     "output_type": "stream",
     "text": [
      "Using TensorFlow backend.\n"
     ]
    }
   ],
   "source": [
    "import numpy as np\n",
    "from matplotlib import pyplot as plt\n",
    "%matplotlib inline\n",
    "import pandas as pd\n",
    "\n",
    "import keras\n",
    "from keras.layers import Dense, Activation, Convolution2D, Reshape, Flatten, ZeroPadding2D\n",
    "from keras.layers import MaxPooling2D, UpSampling2D, Input, Dropout\n",
    "from keras.models import Sequential, Model"
   ]
  },
  {
   "cell_type": "code",
   "execution_count": 3,
   "metadata": {
    "collapsed": false,
    "deletable": true,
    "editable": true
   },
   "outputs": [
    {
     "data": {
      "text/plain": [
       "<matplotlib.image.AxesImage at 0x7f63b8578290>"
      ]
     },
     "execution_count": 3,
     "metadata": {},
     "output_type": "execute_result"
    },
    {
     "data": {
      "image/png": "[encoded data removed]",
      "text/plain": [
       "<matplotlib.figure.Figure at 0x7f63b949c150>"
      ]
     },
     "metadata": {},
     "output_type": "display_data"
    }
   ],
   "source": [
    "ds = pd.read_csv('train.csv')\n",
    "mnist = ds.values[:10000]\n",
    "img = mnist[254,1:].reshape((28,28))\n",
    "plt.imshow(img, cmap='gray')"
   ]
  },
  {
   "cell_type": "code",
   "execution_count": 4,
   "metadata": {
    "collapsed": false,
    "deletable": true,
    "editable": true
   },
   "outputs": [],
   "source": [
    "xt = mnist[:,1:]/255.0\n",
    "yt = mnist[:,0]\n",
    "xt = xt.reshape((xt.shape[0],28,28,1))\n",
    "\n",
    "split = int(0.45*xt.shape[0])\n",
    "xval = xt[split:]\n",
    "yval = yt[split:]\n",
    "\n",
    "xt = xt[:split]\n",
    "yt = yt[:split]"
   ]
  },
  {
   "cell_type": "code",
   "execution_count": 5,
   "metadata": {
    "collapsed": false,
    "deletable": true,
    "editable": true
   },
   "outputs": [
    {
     "name": "stdout",
     "output_type": "stream",
     "text": [
      "____________________________________________________________________________________________________\n",
      "Layer (type)                     Output Shape          Param #     Connected to                     \n",
      "====================================================================================================\n",
      "input_1 (InputLayer)             (None, 28, 28, 1)     0                                            \n",
      "____________________________________________________________________________________________________\n",
      "convolution2d_1 (Convolution2D)  (None, 26, 26, 32)    320         input_1[0][0]                    \n",
      "____________________________________________________________________________________________________\n",
      "convolution2d_2 (Convolution2D)  (None, 24, 24, 16)    4624        convolution2d_1[0][0]            \n",
      "____________________________________________________________________________________________________\n",
      "maxpooling2d_1 (MaxPooling2D)    (None, 12, 12, 16)    0           convolution2d_2[0][0]            \n",
      "____________________________________________________________________________________________________\n",
      "convolution2d_3 (Convolution2D)  (None, 10, 10, 8)     1160        maxpooling2d_1[0][0]             \n",
      "____________________________________________________________________________________________________\n",
      "flatten_1 (Flatten)              (None, 800)           0           convolution2d_3[0][0]            \n",
      "____________________________________________________________________________________________________\n",
      "dropout_1 (Dropout)              (None, 800)           0           flatten_1[0][0]                  \n",
      "____________________________________________________________________________________________________\n",
      "dense_1 (Dense)                  (None, 2)             1602        dropout_1[0][0]                  \n",
      "____________________________________________________________________________________________________\n",
      "dense_2 (Dense)                  (None, 800)           2400        dense_1[0][0]                    \n",
      "____________________________________________________________________________________________________\n",
      "reshape_1 (Reshape)              (None, 10, 10, 8)     0           dense_2[0][0]                    \n",
      "____________________________________________________________________________________________________\n",
      "zeropadding2d_1 (ZeroPadding2D)  (None, 12, 12, 8)     0           reshape_1[0][0]                  \n",
      "____________________________________________________________________________________________________\n",
      "convolution2d_4 (Convolution2D)  (None, 12, 12, 16)    1168        zeropadding2d_1[0][0]            \n",
      "____________________________________________________________________________________________________\n",
      "upsampling2d_1 (UpSampling2D)    (None, 24, 24, 16)    0           convolution2d_4[0][0]            \n",
      "____________________________________________________________________________________________________\n",
      "zeropadding2d_2 (ZeroPadding2D)  (None, 26, 26, 16)    0           upsampling2d_1[0][0]             \n",
      "____________________________________________________________________________________________________\n",
      "convolution2d_5 (Convolution2D)  (None, 26, 26, 32)    4640        zeropadding2d_2[0][0]            \n",
      "____________________________________________________________________________________________________\n",
      "zeropadding2d_3 (ZeroPadding2D)  (None, 28, 28, 32)    0           convolution2d_5[0][0]            \n",
      "____________________________________________________________________________________________________\n",
      "convolution2d_6 (Convolution2D)  (None, 28, 28, 1)     289         zeropadding2d_3[0][0]            \n",
      "====================================================================================================\n",
      "Total params: 16,203\n",
      "Trainable params: 16,203\n",
      "Non-trainable params: 0\n",
      "____________________________________________________________________________________________________\n"
     ]
    }
   ],
   "source": [
    "inp = Input(shape=(28,28,1))\n",
    "embedding_shape = 2\n",
    "\n",
    "#--------------Encoder ------------------#\n",
    "cnv1 = Convolution2D(32,3,3, border_mode='valid', activation='relu')(inp)\n",
    "\n",
    "cnv2 = Convolution2D(16,3,3, border_mode='valid', activation='relu')(cnv1)\n",
    "\n",
    "mxp3 = MaxPooling2D(pool_size=(2,2))(cnv2)\n",
    "\n",
    "cnv4 = Convolution2D(8,3,3, border_mode='valid', activation='relu')(mxp3)\n",
    "\n",
    "#--------------Embedding ------------------#\n",
    "flt5 = Flatten()(cnv4)\n",
    "flt5 = Dropout(0.4)(flt5)\n",
    "den6 = Dense(embedding_shape, activation='sigmoid')(flt5)   \n",
    "den7 = Dense(800, activation='relu')(den6)\n",
    "\n",
    "res8 = Reshape((10,10,8))(den7)\n",
    "\n",
    "#-------------- Decoder ------------------#\n",
    "dcn9 = ZeroPadding2D(padding=(1,1))(res8)\n",
    "dcn9 = Convolution2D(16,3,3, border_mode='same', activation='relu')(dcn9)\n",
    "\n",
    "ups10 = UpSampling2D(size=(2,2))(dcn9)\n",
    "\n",
    "dcn11 = ZeroPadding2D(padding=(1,1))(ups10)\n",
    "dcn11 = Convolution2D(32,3,3, border_mode='same', activation='relu')(dcn11)\n",
    "\n",
    "dcn12 = ZeroPadding2D(padding=(1,1))(dcn11)\n",
    "dcn12 = Convolution2D(1,3,3, border_mode='same', activation='relu')(dcn12)\n",
    "\n",
    "#-------------- Model ------------------#\n",
    "model = Model(input=inp, output=dcn12)\n",
    "model.summary()\n",
    "model.compile(optimizer='adam', loss='mse', metrics=['accuracy'])"
   ]
  },
  {
   "cell_type": "code",
   "execution_count": 47,
   "metadata": {
    "collapsed": false,
    "deletable": true,
    "editable": true
   },
   "outputs": [
    {
     "name": "stdout",
     "output_type": "stream",
     "text": [
      "Train on 4500 samples, validate on 5500 samples\n",
      "Epoch 1/8\n",
      "22s - loss: 0.0765 - acc: 0.8037 - val_loss: 0.0669 - val_acc: 0.7898\n",
      "Epoch 2/8\n",
      "21s - loss: 0.0655 - acc: 0.7973 - val_loss: 0.0640 - val_acc: 0.7905\n",
      "Epoch 3/8\n",
      "23s - loss: 0.0632 - acc: 0.7949 - val_loss: 0.0611 - val_acc: 0.7966\n",
      "Epoch 4/8\n",
      "22s - loss: 0.0602 - acc: 0.7949 - val_loss: 0.0583 - val_acc: 0.7938\n",
      "Epoch 5/8\n",
      "23s - loss: 0.0582 - acc: 0.7945 - val_loss: 0.0568 - val_acc: 0.7971\n",
      "Epoch 6/8\n",
      "22s - loss: 0.0570 - acc: 0.7948 - val_loss: 0.0559 - val_acc: 0.7944\n",
      "Epoch 7/8\n",
      "23s - loss: 0.0563 - acc: 0.7942 - val_loss: 0.0556 - val_acc: 0.7993\n",
      "Epoch 8/8\n",
      "23s - loss: 0.0557 - acc: 0.7948 - val_loss: 0.0548 - val_acc: 0.7927\n"
     ]
    }
   ],
   "source": [
    "hist = model.fit(xt, xt,\n",
    "                nb_epoch=8,\n",
    "                shuffle=True,\n",
    "                batch_size=100,\n",
    "                validation_data=(xval, xval), verbose=2)"
   ]
  },
  {
   "cell_type": "code",
   "execution_count": 48,
   "metadata": {
    "collapsed": false,
    "deletable": true,
    "editable": true
   },
   "outputs": [
    {
     "data": {
      "text/plain": [
       "[<matplotlib.lines.Line2D at 0x7f7459a42a90>]"
      ]
     },
     "execution_count": 48,
     "metadata": {},
     "output_type": "execute_result"
    },
    {
     "data": {
      "image/png": "[encoded data removed]",
      "text/plain": [
       "<matplotlib.figure.Figure at 0x7f7459b32fd0>"
      ]
     },
     "metadata": {},
     "output_type": "display_data"
    },
    {
     "data": {
      "image/png": "[encoded data removed]",
      "text/plain": [
       "<matplotlib.figure.Figure at 0x7f7459ab9c10>"
      ]
     },
     "metadata": {},
     "output_type": "display_data"
    }
   ],
   "source": [
    "th = hist.history\n",
    "\n",
    "plt.figure(0)\n",
    "plt.plot(th['loss'], 'b')\n",
    "plt.plot(th['val_loss'], 'g')\n",
    "\n",
    "plt.figure(1)\n",
    "plt.plot(th['acc'], 'b')\n",
    "plt.plot(th['val_acc'], 'g')"
   ]
  },
  {
   "cell_type": "code",
   "execution_count": 35,
   "metadata": {
    "collapsed": false,
    "deletable": true,
    "editable": true
   },
   "outputs": [],
   "source": [
    "out = model.predict(xval[:50])"
   ]
  },
  {
   "cell_type": "code",
   "execution_count": 41,
   "metadata": {
    "collapsed": false,
    "deletable": true,
    "editable": true
   },
   "outputs": [
    {
     "name": "stdout",
     "output_type": "stream",
     "text": [
      "(50, 28, 28, 1) (7000, 28, 28, 1)\n"
     ]
    },
    {
     "data": {
      "text/plain": [
       "<matplotlib.image.AxesImage at 0x7f745ee22350>"
      ]
     },
     "execution_count": 41,
     "metadata": {},
     "output_type": "execute_result"
    },
    {
     "data": {
      "image/png": "[encoded data removed]",
      "text/plain": [
       "<matplotlib.figure.Figure at 0x7f745edc8950>"
      ]
     },
     "metadata": {},
     "output_type": "display_data"
    }
   ],
   "source": [
    "print out.shape, xval.shape\n",
    "n = 15\n",
    "plt.subplot(1,2,1)\n",
    "plt.imshow((xval[n]*255).reshape((28,28)), cmap='gray')\n",
    "plt.subplot(1,2,2)\n",
    "plt.imshow((out[n]*255).reshape((28,28)), cmap='gray')"
   ]
  },
  {
   "cell_type": "code",
   "execution_count": 22,
   "metadata": {
    "collapsed": true,
    "deletable": true,
    "editable": true
   },
   "outputs": [],
   "source": []
  },
  {
   "cell_type": "code",
   "execution_count": null,
   "metadata": {
    "collapsed": true,
    "deletable": true,
    "editable": true
   },
   "outputs": [],
   "source": []
  }
 ],
 "metadata": {
  "kernelspec": {
   "display_name": "Python 2",
   "language": "python",
   "name": "python2"
  },
  "language_info": {
   "codemirror_mode": {
    "name": "ipython",
    "version": 2
   },
   "file_extension": ".py",
   "mimetype": "text/x-python",
   "name": "python",
   "nbconvert_exporter": "python",
   "pygments_lexer": "ipython2",
   "version": "2.7.12"
  }
 },
 "nbformat": 4,
 "nbformat_minor": 2
}
