{
 "cells": [
  {
   "cell_type": "code",
   "execution_count": 16,
   "metadata": {
    "collapsed": false
   },
   "outputs": [
    {
     "data": {
      "text/plain": [
       "\"C = KMeans(k,xt,Cx)\\n\\nplt.figure(2)\\n\\nfor kx in C.keys():\\n    pts = arr(C[kx]['points'])\\n    plt.scatter(pts[:,0], pts[:,1], color = colours[kx])\\n    \\nfor kx in C.keys():\\n    plt.scatter(C[kx]['center'][0], C[kx]['center'][1], color = 'black')\\n\""
      ]
     },
     "execution_count": 16,
     "metadata": {},
     "output_type": "execute_result"
    },
    {
     "data": {
      "image/png": "[encoded data removed]",
      "text/plain": [
       "<matplotlib.figure.Figure at 0x6f5e770>"
      ]
     },
     "metadata": {},
     "output_type": "display_data"
    }
   ],
   "source": [
    "import numpy as np\n",
    "from numpy import array as arr\n",
    "from matplotlib import pyplot as plt\n",
    "%matplotlib inline\n",
    "\n",
    "# In[181]:\n",
    "\n",
    "mean_01 = np.array([1.0, 3.0])\n",
    "mean_02 = np.array([-1.0, 0.0])\n",
    "\n",
    "cov_01 = np.array([[0.8, 0.3], [0.3, 0.9]])\n",
    "cov_02 = np.array([[0.9, 0.4], [0.4, 0.8]])\n",
    "\n",
    "d1 = np.random.multivariate_normal(mean_01, cov_01, 200)\n",
    "d2 = np.random.multivariate_normal(mean_02, cov_02, 200)\n",
    "\n",
    "plt.figure(0)\n",
    "plt.scatter(d1[:,0], d1[:,1], color = 'blue')\n",
    "plt.scatter(d2[:,0], d2[:,1], color = 'red')\n",
    "\n",
    "\n",
    "# In[182]:\n",
    "xt = np.zeros((d1.shape[0]+d2.shape[0],d1.shape[1]))\n",
    "xt[:d1.shape[0]] = d1[:]\n",
    "xt[d2.shape[0]:] = d2[:]\n",
    "\n",
    "inf = float('inf')\n",
    "\n",
    "\n",
    "# In[183]:\n",
    "def cost(x,y):\n",
    "    return np.sqrt(((x-y)**2).sum())\n",
    "\n",
    "\n",
    "# In[184]:\n",
    "def createDict(k, xt=None, centers=None):\n",
    "    #If we're already given a numpy array of centers, create a dictionary of those centers \n",
    "    if type(centers) != type(None):\n",
    "        C = dict()\n",
    "        for kx in range(k):\n",
    "            cluster = {\n",
    "                        'center': centers[kx],\n",
    "                        'points': []\n",
    "                      } \n",
    "            C[kx] = cluster\n",
    "        return C\n",
    "    \n",
    "    \n",
    "    #Else create a dictionary within the range of max and min of xt\n",
    "    C = dict()\n",
    "    minv, maxv = xt.min(), xt.max()\n",
    "    centers = np.random.uniform(low = minv, high = maxv, size = (k,xt.shape[1]))\n",
    "    for kx in range(k):\n",
    "        cluster = {\n",
    "                    'center':centers[kx,:],\n",
    "                    'points':[]\n",
    "                  } \n",
    "        C[kx] = cluster\n",
    "    return C\n",
    "\n",
    "# In[185]:\n",
    "def clusterize(k, xt, C):\n",
    "    #Takes all the points of the cluster and assign them to their respective centers, then return a dictionary with points\n",
    "    for point in xt:\n",
    "        kv,kc = 1000000,-1\n",
    "        #print point\n",
    "        for kx in range(k):\n",
    "            cst = cost(point, C[kx]['center'])\n",
    "            #print \">\", kx, \":\", cst\n",
    "            if cst < kv:\n",
    "                kv = cst\n",
    "                kc = kx\n",
    "        #print \">>\", kc\n",
    "        C[kc]['points'].append(point)\n",
    "    \n",
    "    return C\n",
    "\n",
    "# In[188]:\n",
    "def updateCenters(k,xt,C):\n",
    "    #Update the value of centers, return the new k and dictionary without points\n",
    "    means = []\n",
    "    for kx in range(k):\n",
    "        if len(C[kx]['points']) == 0:\n",
    "            pass\n",
    "        else:\n",
    "            means.append(np.mean(C[kx]['points'], axis=0))\n",
    "    C = createDict(k,arr(means))\n",
    "    return C\n",
    "\n",
    "\n",
    "# In[187]:\n",
    "colours = ['red','blue', 'green', 'pink']\n",
    "\n",
    "def KMeans(k, xt, C=None, iter=100, plot=True, delay = False):\n",
    "    if type(C) == type(None):\n",
    "        C = createDict(k,xt)\n",
    "        \n",
    "    for it in range(1,iter):\n",
    "        C = clusterize(k,xt,C)\n",
    "        C = updateCenters(k,xt,C)\n",
    "    \n",
    "    C = clusterize(k,xt,C)\n",
    "    print k\n",
    "    for kx in range(k):\n",
    "        pass\n",
    "        #plt.scatter(C[kx]['center'][0], C[kx]['center'][0], color = 'black')\n",
    "        #plt.figure(kx+1)\n",
    "        #plt.scatter(arr(C[0]['points'])[:,0], arr(C[kx]['points'])[:,1], color = colours[kx])\n",
    "    return C     \n",
    "\n",
    "k=2\n",
    "centers = [[2.0,2.0],[-1.0,0.0]]\n",
    "Cx = createDict(k, centers=arr(centers)) \n",
    "\"\"\"C = KMeans(k,xt,Cx)\n",
    "\n",
    "plt.figure(2)\n",
    "\n",
    "for kx in C.keys():\n",
    "    pts = arr(C[kx]['points'])\n",
    "    plt.scatter(pts[:,0], pts[:,1], color = colours[kx])\n",
    "    \n",
    "for kx in C.keys():\n",
    "    plt.scatter(C[kx]['center'][0], C[kx]['center'][1], color = 'black')\n",
    "\"\"\""
   ]
  },
  {
   "cell_type": "code",
   "execution_count": 17,
   "metadata": {
    "collapsed": true
   },
   "outputs": [],
   "source": [
    "B = createDict(k, centers=arr(centers)) "
   ]
  },
  {
   "cell_type": "code",
   "execution_count": 18,
   "metadata": {
    "collapsed": false
   },
   "outputs": [
    {
     "name": "stdout",
     "output_type": "stream",
     "text": [
      "[ 2.  2.]\n",
      "[-1.  0.]\n"
     ]
    },
    {
     "data": {
      "image/png": "[encoded data removed]",
      "text/plain": [
       "<matplotlib.figure.Figure at 0x6c08e30>"
      ]
     },
     "metadata": {},
     "output_type": "display_data"
    }
   ],
   "source": [
    "B = clusterize(k,xt,B)\n",
    "plt.figure(3)\n",
    "\n",
    "for kx in B.keys():\n",
    "    pts = arr(B[kx]['points'])\n",
    "    plt.scatter(pts[:,0], pts[:,1], color = colours[kx])\n",
    "    \n",
    "for kx in B.keys():\n",
    "    plt.scatter(B[kx]['center'][0], B[kx]['center'][1], color = 'black')\n",
    "    print B[kx]['center']"
   ]
  },
  {
   "cell_type": "code",
   "execution_count": 13,
   "metadata": {
    "collapsed": false
   },
   "outputs": [
    {
     "name": "stdout",
     "output_type": "stream",
     "text": [
      "[ 3.01719017  2.06340637]\n",
      "[-0.56935826  1.07951997]\n"
     ]
    },
    {
     "data": {
      "image/png": "[encoded data removed]",
      "text/plain": [
       "<matplotlib.figure.Figure at 0x35485d0>"
      ]
     },
     "metadata": {},
     "output_type": "display_data"
    }
   ],
   "source": [
    "B = clusterize(k,xt,B)\n",
    "plt.figure(3)\n",
    "\n",
    "for kx in B.keys():\n",
    "    pts = arr(B[kx]['points'])\n",
    "    plt.scatter(pts[:,0], pts[:,1], color = colours[kx])\n",
    "    \n",
    "for kx in B.keys():\n",
    "    plt.scatter(B[kx]['center'][0], B[kx]['center'][1], color = 'black')\n",
    "    print B[kx]['center']"
   ]
  },
  {
   "cell_type": "code",
   "execution_count": null,
   "metadata": {
    "collapsed": true
   },
   "outputs": [],
   "source": [
    "B = updateCenters(k,xt,B)\n",
    "B = clusterize(k,xt,B)"
   ]
  },
  {
   "cell_type": "code",
   "execution_count": null,
   "metadata": {
    "collapsed": true
   },
   "outputs": [],
   "source": []
  }
 ],
 "metadata": {
  "kernelspec": {
   "display_name": "Python 2",
   "language": "python",
   "name": "python2"
  },
  "language_info": {
   "codemirror_mode": {
    "name": "ipython",
    "version": 2
   },
   "file_extension": ".py",
   "mimetype": "text/x-python",
   "name": "python",
   "nbconvert_exporter": "python",
   "pygments_lexer": "ipython2",
   "version": "2.7.11"
  }
 },
 "nbformat": 4,
 "nbformat_minor": 2
}
